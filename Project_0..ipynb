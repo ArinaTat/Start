{
 "cells": [
  {
   "cell_type": "code",
   "execution_count": 23,
   "metadata": {},
   "outputs": [
    {
     "name": "stdout",
     "output_type": "stream",
     "text": [
      "Ваш алгоритм угадывает число в среднем за 5 попыток\n"
     ]
    },
    {
     "data": {
      "text/plain": [
       "5"
      ]
     },
     "execution_count": 23,
     "metadata": {},
     "output_type": "execute_result"
    }
   ],
   "source": [
    "import numpy as np\n",
    "\n",
    "def game_core_v1(number):\n",
    "    '''Сначала устанавливаем верхнюю и нижнюю границы в переменные, а потом вычисляем значение среднего элемента \n",
    "    складывая нижнюю и верхнюю границы и делим на 2. Если число больше среднего элемента, то передвигаем на это значение нижнюю границу+1, иначе верхнюю.\n",
    "    Функция принимает загаданное число и возвращает число попыток'''\n",
    "    count = 1\n",
    "    num_1 = 1\n",
    "    num_2 = 100\n",
    "    predict = 50\n",
    "    while number != predict:\n",
    "        count+=1 \n",
    "        if number > predict:\n",
    "            num_1 = predict + 1\n",
    "        elif number < predict:\n",
    "            num_2 = predict - 1\n",
    "        predict = (num_1 + num_2)//2\n",
    "    # Выход из цикла, если угадали    \n",
    "    return(count)       \n",
    "\n",
    "\n",
    "def score_game(game_core):\n",
    "    '''Запускаем игру 1000 раз, чтобы узнать, как быстро игра угадывает число'''\n",
    "    count_list = []\n",
    "    np.random.seed(1)  # Фиксируем RANDOM SEED, чтобы эксперимент был воспроизводим.\n",
    "    random_array = np.random.randint(1,101, size=(1000))\n",
    "    for number in random_array:\n",
    "        count_list.append(game_core(number))\n",
    "    score = int(np.mean(count_list))\n",
    "    print(f\"Ваш алгоритм угадывает число в среднем за {score} попыток\")\n",
    "    \n",
    "    return(score)\n",
    "\n",
    "# Запускаем\n",
    "score_game(game_core_v1)"
   ]
  }
 ],
 "metadata": {
  "kernelspec": {
   "display_name": "Python 3",
   "language": "python",
   "name": "python3"
  },
  "language_info": {
   "codemirror_mode": {
    "name": "ipython",
    "version": 3
   },
   "file_extension": ".py",
   "mimetype": "text/x-python",
   "name": "python",
   "nbconvert_exporter": "python",
   "pygments_lexer": "ipython3",
   "version": "3.8.5"
  }
 },
 "nbformat": 4,
 "nbformat_minor": 4
}
